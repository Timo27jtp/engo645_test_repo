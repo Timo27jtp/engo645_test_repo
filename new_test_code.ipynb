{
 "cells": [
  {
   "cell_type": "code",
   "execution_count": 1,
   "id": "a541ab20-1555-4d4d-a276-24cb43cbcfa9",
   "metadata": {
    "tags": []
   },
   "outputs": [
    {
     "name": "stdout",
     "output_type": "stream",
     "text": [
      "Hello ENGO645 Students!\n"
     ]
    }
   ],
   "source": [
    "print(\"Hello ENGO645 Students!\")"
   ]
  },
  {
   "cell_type": "code",
   "execution_count": null,
   "id": "940cc660-b3a4-407a-afaa-a74132105b46",
   "metadata": {},
   "outputs": [],
   "source": []
  }
 ],
 "metadata": {
  "kernelspec": {
   "display_name": "Python 3 (ipykernel)",
   "language": "python",
   "name": "python3"
  },
  "language_info": {
   "codemirror_mode": {
    "name": "ipython",
    "version": 3
   },
   "file_extension": ".py",
   "mimetype": "text/x-python",
   "name": "python",
   "nbconvert_exporter": "python",
   "pygments_lexer": "ipython3",
   "version": "3.9.12"
  }
 },
 "nbformat": 4,
 "nbformat_minor": 5
}
